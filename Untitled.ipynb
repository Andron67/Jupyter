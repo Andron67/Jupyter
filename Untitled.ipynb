{
 "cells": [
  {
   "cell_type": "markdown",
   "id": "a8a466ea-f71e-441c-ac7d-9d72a12007ae",
   "metadata": {},
   "source": [
    "# Последовательность Фибоначи"
   ]
  },
  {
   "cell_type": "code",
   "execution_count": 12,
   "id": "df8443ef-9598-474a-a949-df138ba32013",
   "metadata": {},
   "outputs": [
    {
     "data": {
      "text/plain": [
       "[0, 1, 1, 2, 3, 5, 8, 13, 21, 34, 55, 89]"
      ]
     },
     "execution_count": 12,
     "metadata": {},
     "output_type": "execute_result"
    }
   ],
   "source": [
    "def fibanacci(sequence_length):\n",
    "    sequence = [0, 1]\n",
    "    if sequence_length < 1: \n",
    "        print(\"Последовтельность фибоначи не может иметь длину менее 1\")\n",
    "        return\n",
    "    if 0 < sequence_length < 3:\n",
    "        return sequence[0:sequence_length]\n",
    "    for i in range(2,sequence_length):\n",
    "        sequence.append(sequence[i-1] + sequence[i-2])\n",
    "    return sequence\n",
    "\n",
    "fibanacci(12)\n",
    "    "
   ]
  },
  {
   "cell_type": "code",
   "execution_count": 13,
   "id": "fbfe7c8c-0bf8-46e0-8305-7083e126c715",
   "metadata": {},
   "outputs": [
    {
     "name": "stdout",
     "output_type": "stream",
     "text": [
      "Последовтельность фибоначи не может иметь длину менее 1\n"
     ]
    }
   ],
   "source": [
    "fibanacci(0)"
   ]
  },
  {
   "cell_type": "code",
   "execution_count": 14,
   "id": "6882125b-3d64-453d-82e9-d9564c23ec7d",
   "metadata": {},
   "outputs": [
    {
     "data": {
      "text/plain": [
       "[0, 1]"
      ]
     },
     "execution_count": 14,
     "metadata": {},
     "output_type": "execute_result"
    }
   ],
   "source": [
    "fibanacci(2)"
   ]
  },
  {
   "cell_type": "code",
   "execution_count": null,
   "id": "48296334-0d62-46b3-a94f-6cbdb4b8f871",
   "metadata": {},
   "outputs": [],
   "source": []
  },
  {
   "cell_type": "code",
   "execution_count": null,
   "id": "8ce6db03-acc2-4058-b991-da514f2505dd",
   "metadata": {},
   "outputs": [],
   "source": []
  }
 ],
 "metadata": {
  "kernelspec": {
   "display_name": "Python 3 (ipykernel)",
   "language": "python",
   "name": "python3"
  },
  "language_info": {
   "codemirror_mode": {
    "name": "ipython",
    "version": 3
   },
   "file_extension": ".py",
   "mimetype": "text/x-python",
   "name": "python",
   "nbconvert_exporter": "python",
   "pygments_lexer": "ipython3",
   "version": "3.9.6"
  }
 },
 "nbformat": 4,
 "nbformat_minor": 5
}
