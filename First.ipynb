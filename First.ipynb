{
 "cells": [
  {
   "cell_type": "markdown",
   "id": "7d525a58-ffcc-4e0e-bf85-e6c86530b0d7",
   "metadata": {},
   "source": [
    "# Мой первый файл Jupyter Notebook"
   ]
  },
  {
   "cell_type": "code",
   "execution_count": 1,
   "id": "148f3111-57c9-46aa-9611-b2710f47336e",
   "metadata": {},
   "outputs": [
    {
     "name": "stdout",
     "output_type": "stream",
     "text": [
      "Hello Word!\n"
     ]
    }
   ],
   "source": [
    "print(\"Hello Word!\")"
   ]
  },
  {
   "cell_type": "code",
   "execution_count": 2,
   "id": "f179c77a-9058-4ae1-806d-7a05f3657b50",
   "metadata": {},
   "outputs": [
    {
     "data": {
      "text/plain": [
       "4"
      ]
     },
     "execution_count": 2,
     "metadata": {},
     "output_type": "execute_result"
    }
   ],
   "source": [
    "2+2"
   ]
  },
  {
   "cell_type": "code",
   "execution_count": null,
   "id": "4ab3cad6-bfe4-44bb-b2c8-3494b048e4e3",
   "metadata": {},
   "outputs": [],
   "source": []
  }
 ],
 "metadata": {
  "kernelspec": {
   "display_name": "Python 3 (ipykernel)",
   "language": "python",
   "name": "python3"
  },
  "language_info": {
   "codemirror_mode": {
    "name": "ipython",
    "version": 3
   },
   "file_extension": ".py",
   "mimetype": "text/x-python",
   "name": "python",
   "nbconvert_exporter": "python",
   "pygments_lexer": "ipython3",
   "version": "3.9.6"
  }
 },
 "nbformat": 4,
 "nbformat_minor": 5
}
